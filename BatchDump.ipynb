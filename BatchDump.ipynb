{
 "cells": [
  {
   "cell_type": "code",
   "execution_count": 44,
   "outputs": [],
   "source": [
    "import pandas as pd"
   ],
   "metadata": {
    "collapsed": false,
    "ExecuteTime": {
     "end_time": "2024-05-01T13:01:24.345343Z",
     "start_time": "2024-05-01T13:01:24.171468Z"
    }
   },
   "id": "6e164aec595a1aa0"
  },
  {
   "cell_type": "code",
   "execution_count": 45,
   "id": "initial_id",
   "metadata": {
    "collapsed": true,
    "ExecuteTime": {
     "end_time": "2024-05-01T13:01:26.985926Z",
     "start_time": "2024-05-01T13:01:24.182405Z"
    }
   },
   "outputs": [],
   "source": [
    "df = pd.read_csv('./data/batchdump_APR29.csv')"
   ]
  },
  {
   "cell_type": "code",
   "execution_count": 46,
   "outputs": [
    {
     "data": {
      "text/plain": "        Incident Datetime Incident Date Incident Time  Incident Year  \\\n0  2023/03/13 11:41:00 PM    2023/03/13         23:41           2023   \n1  2023/03/01 05:02:00 AM    2023/03/01         05:02           2023   \n2  2023/03/13 01:16:00 PM    2023/03/13         13:16           2023   \n3  2023/03/13 10:59:00 AM    2023/03/13         10:59           2023   \n4  2023/03/14 06:44:00 PM    2023/03/14         18:44           2023   \n\n  Incident Day of Week         Report Datetime        Row ID  Incident ID  \\\n0               Monday  2023/03/13 11:41:00 PM  125373607041      1253736   \n1            Wednesday  2023/03/11 03:40:00 PM  125379506374      1253795   \n2               Monday  2023/03/13 01:17:00 PM  125357107041      1253571   \n3               Monday  2023/03/13 11:00:00 AM  125355107041      1253551   \n4              Tuesday  2023/03/14 06:45:00 PM  125402407041      1254024   \n\n   Incident Number  CAD Number  ... Longitude Point Neighborhoods  \\\n0        230167874         NaN  ...       NaN   NaN           NaN   \n1        236046151         NaN  ...       NaN   NaN           NaN   \n2        220343896         NaN  ...       NaN   NaN           NaN   \n3        230174885         NaN  ...       NaN   NaN           NaN   \n4        230176728         NaN  ...       NaN   NaN           NaN   \n\n   ESNCAG - Boundary File  \\\n0                     NaN   \n1                     NaN   \n2                     NaN   \n3                     NaN   \n4                     NaN   \n\n  Central Market/Tenderloin Boundary Polygon - Updated  \\\n0                                                NaN     \n1                                                NaN     \n2                                                NaN     \n3                                                NaN     \n4                                                NaN     \n\n  Civic Center Harm Reduction Project Boundary HSOC Zones as of 2018-06-05  \\\n0                                          NaN                         NaN   \n1                                          NaN                         NaN   \n2                                          NaN                         NaN   \n3                                          NaN                         NaN   \n4                                          NaN                         NaN   \n\n  Invest In Neighborhoods (IIN) Areas Current Supervisor Districts  \\\n0                                 NaN                          NaN   \n1                                 NaN                          NaN   \n2                                 NaN                          NaN   \n3                                 NaN                          NaN   \n4                                 NaN                          NaN   \n\n   Current Police Districts  \n0                       NaN  \n1                       NaN  \n2                       NaN  \n3                       NaN  \n4                       NaN  \n\n[5 rows x 35 columns]",
      "text/html": "<div>\n<style scoped>\n    .dataframe tbody tr th:only-of-type {\n        vertical-align: middle;\n    }\n\n    .dataframe tbody tr th {\n        vertical-align: top;\n    }\n\n    .dataframe thead th {\n        text-align: right;\n    }\n</style>\n<table border=\"1\" class=\"dataframe\">\n  <thead>\n    <tr style=\"text-align: right;\">\n      <th></th>\n      <th>Incident Datetime</th>\n      <th>Incident Date</th>\n      <th>Incident Time</th>\n      <th>Incident Year</th>\n      <th>Incident Day of Week</th>\n      <th>Report Datetime</th>\n      <th>Row ID</th>\n      <th>Incident ID</th>\n      <th>Incident Number</th>\n      <th>CAD Number</th>\n      <th>...</th>\n      <th>Longitude</th>\n      <th>Point</th>\n      <th>Neighborhoods</th>\n      <th>ESNCAG - Boundary File</th>\n      <th>Central Market/Tenderloin Boundary Polygon - Updated</th>\n      <th>Civic Center Harm Reduction Project Boundary</th>\n      <th>HSOC Zones as of 2018-06-05</th>\n      <th>Invest In Neighborhoods (IIN) Areas</th>\n      <th>Current Supervisor Districts</th>\n      <th>Current Police Districts</th>\n    </tr>\n  </thead>\n  <tbody>\n    <tr>\n      <th>0</th>\n      <td>2023/03/13 11:41:00 PM</td>\n      <td>2023/03/13</td>\n      <td>23:41</td>\n      <td>2023</td>\n      <td>Monday</td>\n      <td>2023/03/13 11:41:00 PM</td>\n      <td>125373607041</td>\n      <td>1253736</td>\n      <td>230167874</td>\n      <td>NaN</td>\n      <td>...</td>\n      <td>NaN</td>\n      <td>NaN</td>\n      <td>NaN</td>\n      <td>NaN</td>\n      <td>NaN</td>\n      <td>NaN</td>\n      <td>NaN</td>\n      <td>NaN</td>\n      <td>NaN</td>\n      <td>NaN</td>\n    </tr>\n    <tr>\n      <th>1</th>\n      <td>2023/03/01 05:02:00 AM</td>\n      <td>2023/03/01</td>\n      <td>05:02</td>\n      <td>2023</td>\n      <td>Wednesday</td>\n      <td>2023/03/11 03:40:00 PM</td>\n      <td>125379506374</td>\n      <td>1253795</td>\n      <td>236046151</td>\n      <td>NaN</td>\n      <td>...</td>\n      <td>NaN</td>\n      <td>NaN</td>\n      <td>NaN</td>\n      <td>NaN</td>\n      <td>NaN</td>\n      <td>NaN</td>\n      <td>NaN</td>\n      <td>NaN</td>\n      <td>NaN</td>\n      <td>NaN</td>\n    </tr>\n    <tr>\n      <th>2</th>\n      <td>2023/03/13 01:16:00 PM</td>\n      <td>2023/03/13</td>\n      <td>13:16</td>\n      <td>2023</td>\n      <td>Monday</td>\n      <td>2023/03/13 01:17:00 PM</td>\n      <td>125357107041</td>\n      <td>1253571</td>\n      <td>220343896</td>\n      <td>NaN</td>\n      <td>...</td>\n      <td>NaN</td>\n      <td>NaN</td>\n      <td>NaN</td>\n      <td>NaN</td>\n      <td>NaN</td>\n      <td>NaN</td>\n      <td>NaN</td>\n      <td>NaN</td>\n      <td>NaN</td>\n      <td>NaN</td>\n    </tr>\n    <tr>\n      <th>3</th>\n      <td>2023/03/13 10:59:00 AM</td>\n      <td>2023/03/13</td>\n      <td>10:59</td>\n      <td>2023</td>\n      <td>Monday</td>\n      <td>2023/03/13 11:00:00 AM</td>\n      <td>125355107041</td>\n      <td>1253551</td>\n      <td>230174885</td>\n      <td>NaN</td>\n      <td>...</td>\n      <td>NaN</td>\n      <td>NaN</td>\n      <td>NaN</td>\n      <td>NaN</td>\n      <td>NaN</td>\n      <td>NaN</td>\n      <td>NaN</td>\n      <td>NaN</td>\n      <td>NaN</td>\n      <td>NaN</td>\n    </tr>\n    <tr>\n      <th>4</th>\n      <td>2023/03/14 06:44:00 PM</td>\n      <td>2023/03/14</td>\n      <td>18:44</td>\n      <td>2023</td>\n      <td>Tuesday</td>\n      <td>2023/03/14 06:45:00 PM</td>\n      <td>125402407041</td>\n      <td>1254024</td>\n      <td>230176728</td>\n      <td>NaN</td>\n      <td>...</td>\n      <td>NaN</td>\n      <td>NaN</td>\n      <td>NaN</td>\n      <td>NaN</td>\n      <td>NaN</td>\n      <td>NaN</td>\n      <td>NaN</td>\n      <td>NaN</td>\n      <td>NaN</td>\n      <td>NaN</td>\n    </tr>\n  </tbody>\n</table>\n<p>5 rows × 35 columns</p>\n</div>"
     },
     "execution_count": 46,
     "metadata": {},
     "output_type": "execute_result"
    }
   ],
   "source": [
    "df.head(5)"
   ],
   "metadata": {
    "collapsed": false,
    "ExecuteTime": {
     "end_time": "2024-05-01T13:01:27.012355Z",
     "start_time": "2024-05-01T13:01:26.994484Z"
    }
   },
   "id": "dcafd3584895b656"
  },
  {
   "cell_type": "code",
   "execution_count": 47,
   "outputs": [],
   "source": [
    "Datedf = pd.DataFrame(columns=[\"DateTime\",\"Year\",\"Month\",\"Date\",\"week_number\",\"week_name\",\"month_name\"])"
   ],
   "metadata": {
    "collapsed": false,
    "ExecuteTime": {
     "end_time": "2024-05-01T13:01:27.017995Z",
     "start_time": "2024-05-01T13:01:27.005185Z"
    }
   },
   "id": "e182d2dd7e89c78e"
  },
  {
   "cell_type": "code",
   "execution_count": 48,
   "outputs": [
    {
     "data": {
      "text/plain": "Index(['Incident Datetime', 'Incident Date', 'Incident Time', 'Incident Year',\n       'Incident Day of Week', 'Report Datetime', 'Row ID', 'Incident ID',\n       'Incident Number', 'CAD Number', 'Report Type Code',\n       'Report Type Description', 'Filed Online', 'Incident Code',\n       'Incident Category', 'Incident Subcategory', 'Incident Description',\n       'Resolution', 'Intersection', 'CNN', 'Police District',\n       'Analysis Neighborhood', 'Supervisor District',\n       'Supervisor District 2012', 'Latitude', 'Longitude', 'Point',\n       'Neighborhoods', 'ESNCAG - Boundary File',\n       'Central Market/Tenderloin Boundary Polygon - Updated',\n       'Civic Center Harm Reduction Project Boundary',\n       'HSOC Zones as of 2018-06-05', 'Invest In Neighborhoods (IIN) Areas',\n       'Current Supervisor Districts', 'Current Police Districts'],\n      dtype='object')"
     },
     "execution_count": 48,
     "metadata": {},
     "output_type": "execute_result"
    }
   ],
   "source": [
    "df.columns"
   ],
   "metadata": {
    "collapsed": false,
    "ExecuteTime": {
     "end_time": "2024-05-01T13:01:27.051747Z",
     "start_time": "2024-05-01T13:01:27.012606Z"
    }
   },
   "id": "ab42a1d85123ac36"
  },
  {
   "cell_type": "code",
   "execution_count": 49,
   "outputs": [],
   "source": [
    "factcolumns = ['Row ID','Incident ID','Incident Number','Report Type Code','Incident Code','Police District','Analysis Neighborhood','Intersection','Incident Datetime','Report Datetime','Filed Online','Point','Resolution']\n",
    "incidentreportcolumns = ['Incident Code','Incident Category', 'Incident Subcategory', 'Incident Description']\n",
    "reportcolumns = ['Report Type Code','Report Type Description']\n",
    "locationcolumns = ['Point','Latitude', 'Longitude']\n",
    "curatedcolumns = ['Incident Datetime', 'Incident Date', 'Report Datetime', 'Row ID', 'Incident ID','Incident Number', 'Report Type Code','Report Type Description', 'Incident Code','Incident Category', 'Incident Subcategory', 'Incident Description','Resolution', 'Police District', 'Filed Online','CAD Number','Intersection','CNN','Analysis Neighborhood', 'Supervisor District','Supervisor District 2012', 'Latitude', 'Longitude', 'Point']"
   ],
   "metadata": {
    "collapsed": false,
    "ExecuteTime": {
     "end_time": "2024-05-01T13:01:27.052902Z",
     "start_time": "2024-05-01T13:01:27.020475Z"
    }
   },
   "id": "a684a354ba1a139d"
  },
  {
   "cell_type": "code",
   "execution_count": 50,
   "outputs": [],
   "source": [
    "Factdf = df[factcolumns]\n",
    "Factdf.columns = [\"RowID\",\"IncidentID\",\"IncidentNumber\",\"ReportType\",\"IncidentCode\",\"PoliceDistrict\",\"AnalysisNeighborhood\",\"Intersection\",\"IncidentTimeStamp\",\"ReportTimeStamp\",\"OnlineIncident\",\"PointID\",\"Resolution\"]"
   ],
   "metadata": {
    "collapsed": false,
    "ExecuteTime": {
     "end_time": "2024-05-01T13:01:27.232623Z",
     "start_time": "2024-05-01T13:01:27.036457Z"
    }
   },
   "id": "252fdfb6a3b326dc"
  },
  {
   "cell_type": "code",
   "execution_count": 51,
   "outputs": [
    {
     "data": {
      "text/plain": "          RowID  IncidentID  IncidentNumber ReportType  IncidentCode  \\\n0  125373607041     1253736       230167874         VS          7041   \n1  125379506374     1253795       236046151         II          6374   \n2  125357107041     1253571       220343896         VS          7041   \n3  125355107041     1253551       230174885         VS          7041   \n4  125402407041     1254024       230176728         VS          7041   \n\n  PoliceDistrict AnalysisNeighborhood Intersection       IncidentTimeStamp  \\\n0      Out of SF                  NaN          NaN  2023/03/13 11:41:00 PM   \n1        Mission                  NaN          NaN  2023/03/01 05:02:00 AM   \n2      Out of SF                  NaN          NaN  2023/03/13 01:16:00 PM   \n3      Out of SF                  NaN          NaN  2023/03/13 10:59:00 AM   \n4      Out of SF                  NaN          NaN  2023/03/14 06:44:00 PM   \n\n          ReportTimeStamp OnlineIncident PointID      Resolution  \n0  2023/03/13 11:41:00 PM            NaN     NaN  Open or Active  \n1  2023/03/11 03:40:00 PM           True     NaN  Open or Active  \n2  2023/03/13 01:17:00 PM            NaN     NaN  Open or Active  \n3  2023/03/13 11:00:00 AM            NaN     NaN  Open or Active  \n4  2023/03/14 06:45:00 PM            NaN     NaN  Open or Active  ",
      "text/html": "<div>\n<style scoped>\n    .dataframe tbody tr th:only-of-type {\n        vertical-align: middle;\n    }\n\n    .dataframe tbody tr th {\n        vertical-align: top;\n    }\n\n    .dataframe thead th {\n        text-align: right;\n    }\n</style>\n<table border=\"1\" class=\"dataframe\">\n  <thead>\n    <tr style=\"text-align: right;\">\n      <th></th>\n      <th>RowID</th>\n      <th>IncidentID</th>\n      <th>IncidentNumber</th>\n      <th>ReportType</th>\n      <th>IncidentCode</th>\n      <th>PoliceDistrict</th>\n      <th>AnalysisNeighborhood</th>\n      <th>Intersection</th>\n      <th>IncidentTimeStamp</th>\n      <th>ReportTimeStamp</th>\n      <th>OnlineIncident</th>\n      <th>PointID</th>\n      <th>Resolution</th>\n    </tr>\n  </thead>\n  <tbody>\n    <tr>\n      <th>0</th>\n      <td>125373607041</td>\n      <td>1253736</td>\n      <td>230167874</td>\n      <td>VS</td>\n      <td>7041</td>\n      <td>Out of SF</td>\n      <td>NaN</td>\n      <td>NaN</td>\n      <td>2023/03/13 11:41:00 PM</td>\n      <td>2023/03/13 11:41:00 PM</td>\n      <td>NaN</td>\n      <td>NaN</td>\n      <td>Open or Active</td>\n    </tr>\n    <tr>\n      <th>1</th>\n      <td>125379506374</td>\n      <td>1253795</td>\n      <td>236046151</td>\n      <td>II</td>\n      <td>6374</td>\n      <td>Mission</td>\n      <td>NaN</td>\n      <td>NaN</td>\n      <td>2023/03/01 05:02:00 AM</td>\n      <td>2023/03/11 03:40:00 PM</td>\n      <td>True</td>\n      <td>NaN</td>\n      <td>Open or Active</td>\n    </tr>\n    <tr>\n      <th>2</th>\n      <td>125357107041</td>\n      <td>1253571</td>\n      <td>220343896</td>\n      <td>VS</td>\n      <td>7041</td>\n      <td>Out of SF</td>\n      <td>NaN</td>\n      <td>NaN</td>\n      <td>2023/03/13 01:16:00 PM</td>\n      <td>2023/03/13 01:17:00 PM</td>\n      <td>NaN</td>\n      <td>NaN</td>\n      <td>Open or Active</td>\n    </tr>\n    <tr>\n      <th>3</th>\n      <td>125355107041</td>\n      <td>1253551</td>\n      <td>230174885</td>\n      <td>VS</td>\n      <td>7041</td>\n      <td>Out of SF</td>\n      <td>NaN</td>\n      <td>NaN</td>\n      <td>2023/03/13 10:59:00 AM</td>\n      <td>2023/03/13 11:00:00 AM</td>\n      <td>NaN</td>\n      <td>NaN</td>\n      <td>Open or Active</td>\n    </tr>\n    <tr>\n      <th>4</th>\n      <td>125402407041</td>\n      <td>1254024</td>\n      <td>230176728</td>\n      <td>VS</td>\n      <td>7041</td>\n      <td>Out of SF</td>\n      <td>NaN</td>\n      <td>NaN</td>\n      <td>2023/03/14 06:44:00 PM</td>\n      <td>2023/03/14 06:45:00 PM</td>\n      <td>NaN</td>\n      <td>NaN</td>\n      <td>Open or Active</td>\n    </tr>\n  </tbody>\n</table>\n</div>"
     },
     "execution_count": 51,
     "metadata": {},
     "output_type": "execute_result"
    }
   ],
   "source": [
    "Factdf.head(5)"
   ],
   "metadata": {
    "collapsed": false,
    "ExecuteTime": {
     "end_time": "2024-05-01T13:01:27.235473Z",
     "start_time": "2024-05-01T13:01:27.107796Z"
    }
   },
   "id": "2d4457de7b9789b7"
  },
  {
   "cell_type": "code",
   "execution_count": 52,
   "outputs": [],
   "source": [
    "Reportdf = df[reportcolumns]\n",
    "Reportdf.columns = [\"report_type_code\",\"report_type_description\"]"
   ],
   "metadata": {
    "collapsed": false,
    "ExecuteTime": {
     "end_time": "2024-05-01T13:01:27.238380Z",
     "start_time": "2024-05-01T13:01:27.112458Z"
    }
   },
   "id": "5d4be0c7da72f62e"
  },
  {
   "cell_type": "code",
   "execution_count": 53,
   "outputs": [
    {
     "data": {
      "text/plain": "(846401, 2)"
     },
     "execution_count": 53,
     "metadata": {},
     "output_type": "execute_result"
    }
   ],
   "source": [
    "Reportdf.shape"
   ],
   "metadata": {
    "collapsed": false,
    "ExecuteTime": {
     "end_time": "2024-05-01T13:01:27.238838Z",
     "start_time": "2024-05-01T13:01:27.127061Z"
    }
   },
   "id": "b40cadddd6cb67aa"
  },
  {
   "cell_type": "code",
   "execution_count": 54,
   "outputs": [],
   "source": [
    "IncidentReportdf = df[incidentreportcolumns]\n",
    "IncidentReportdf.columns = [\"incident_code\",\"incident_category\",\"incident_subcategory\",\"incident_description\"]"
   ],
   "metadata": {
    "collapsed": false,
    "ExecuteTime": {
     "end_time": "2024-05-01T13:01:27.239313Z",
     "start_time": "2024-05-01T13:01:27.132752Z"
    }
   },
   "id": "23c315a1ab8c1f31"
  },
  {
   "cell_type": "code",
   "execution_count": 55,
   "outputs": [
    {
     "data": {
      "text/plain": "   incident_code  incident_category   incident_subcategory  \\\n0           7041  Recovered Vehicle      Recovered Vehicle   \n1           6374      Larceny Theft  Larceny Theft - Other   \n2           7041  Recovered Vehicle      Recovered Vehicle   \n3           7041  Recovered Vehicle      Recovered Vehicle   \n4           7041  Recovered Vehicle      Recovered Vehicle   \n\n           incident_description  \n0      Vehicle, Recovered, Auto  \n1  Theft, Other Property, >$950  \n2      Vehicle, Recovered, Auto  \n3      Vehicle, Recovered, Auto  \n4      Vehicle, Recovered, Auto  ",
      "text/html": "<div>\n<style scoped>\n    .dataframe tbody tr th:only-of-type {\n        vertical-align: middle;\n    }\n\n    .dataframe tbody tr th {\n        vertical-align: top;\n    }\n\n    .dataframe thead th {\n        text-align: right;\n    }\n</style>\n<table border=\"1\" class=\"dataframe\">\n  <thead>\n    <tr style=\"text-align: right;\">\n      <th></th>\n      <th>incident_code</th>\n      <th>incident_category</th>\n      <th>incident_subcategory</th>\n      <th>incident_description</th>\n    </tr>\n  </thead>\n  <tbody>\n    <tr>\n      <th>0</th>\n      <td>7041</td>\n      <td>Recovered Vehicle</td>\n      <td>Recovered Vehicle</td>\n      <td>Vehicle, Recovered, Auto</td>\n    </tr>\n    <tr>\n      <th>1</th>\n      <td>6374</td>\n      <td>Larceny Theft</td>\n      <td>Larceny Theft - Other</td>\n      <td>Theft, Other Property, &gt;$950</td>\n    </tr>\n    <tr>\n      <th>2</th>\n      <td>7041</td>\n      <td>Recovered Vehicle</td>\n      <td>Recovered Vehicle</td>\n      <td>Vehicle, Recovered, Auto</td>\n    </tr>\n    <tr>\n      <th>3</th>\n      <td>7041</td>\n      <td>Recovered Vehicle</td>\n      <td>Recovered Vehicle</td>\n      <td>Vehicle, Recovered, Auto</td>\n    </tr>\n    <tr>\n      <th>4</th>\n      <td>7041</td>\n      <td>Recovered Vehicle</td>\n      <td>Recovered Vehicle</td>\n      <td>Vehicle, Recovered, Auto</td>\n    </tr>\n  </tbody>\n</table>\n</div>"
     },
     "execution_count": 55,
     "metadata": {},
     "output_type": "execute_result"
    }
   ],
   "source": [
    "IncidentReportdf.head(5)"
   ],
   "metadata": {
    "collapsed": false,
    "ExecuteTime": {
     "end_time": "2024-05-01T13:01:27.240703Z",
     "start_time": "2024-05-01T13:01:27.155730Z"
    }
   },
   "id": "e94b34300197c974"
  },
  {
   "cell_type": "code",
   "execution_count": 105,
   "outputs": [],
   "source": [
    "Datedf = pd.concat([df['Incident Datetime'],df['Report Datetime']],ignore_index=True).to_frame()\n",
    "Datedf.columns = ['DateTime']"
   ],
   "metadata": {
    "collapsed": false,
    "ExecuteTime": {
     "end_time": "2024-05-01T13:56:01.140644Z",
     "start_time": "2024-05-01T13:56:01.067291Z"
    }
   },
   "id": "5a0bd6295bc10db4"
  },
  {
   "cell_type": "code",
   "execution_count": 57,
   "outputs": [],
   "source": [
    "Locationdf = df[locationcolumns]\n",
    "Locationdf.columns = ['PointID','Latitude','Longitude']"
   ],
   "metadata": {
    "collapsed": false,
    "ExecuteTime": {
     "end_time": "2024-05-01T13:01:27.277301Z",
     "start_time": "2024-05-01T13:01:27.193278Z"
    }
   },
   "id": "8930c66837b00da"
  },
  {
   "cell_type": "code",
   "execution_count": 58,
   "outputs": [],
   "source": [
    "Curateddf = df[curatedcolumns]\n",
    "Curateddf.columns = [\"incident_datetime\",\"incident_date\",\"report_datetime\",\"row_id\",\"incident_id\",\"incident_number\",\"report_type_code\",\"report_type_description\",\"incident_code\",\"incident_category\",\"incident_subcategory\",\"incident_description\",\"resolution\",\"police_district\",\"onlineincident\",\"cad_number\",\"intersection\",\"cnn\",\"analysis_neighborhood\",\"supervisor_district\",\"supervisor_district_2012\",\"latitude\",\"longitude\",\"point\"]"
   ],
   "metadata": {
    "collapsed": false,
    "ExecuteTime": {
     "end_time": "2024-05-01T13:01:27.406724Z",
     "start_time": "2024-05-01T13:01:27.199491Z"
    }
   },
   "id": "274bf0fcd0f63f86"
  },
  {
   "cell_type": "markdown",
   "source": [
    "# Removing duplicates"
   ],
   "metadata": {
    "collapsed": false
   },
   "id": "dcece82422342b38"
  },
  {
   "cell_type": "code",
   "execution_count": 59,
   "outputs": [],
   "source": [
    "Reportdf = Reportdf.drop_duplicates()\n",
    "IncidentReportdf = IncidentReportdf.drop_duplicates()\n",
    "Locationdf = Locationdf.drop_duplicates()"
   ],
   "metadata": {
    "collapsed": false,
    "ExecuteTime": {
     "end_time": "2024-05-01T13:01:27.657337Z",
     "start_time": "2024-05-01T13:01:27.376653Z"
    }
   },
   "id": "c438f9eecd92eec5"
  },
  {
   "cell_type": "code",
   "execution_count": 106,
   "outputs": [],
   "source": [
    "Datedf = Datedf.drop_duplicates()\n",
    "Datedf['DateTime'] = pd.to_datetime(Datedf['DateTime'])"
   ],
   "metadata": {
    "collapsed": false,
    "ExecuteTime": {
     "end_time": "2024-05-01T13:56:28.092959Z",
     "start_time": "2024-05-01T13:56:05.356412Z"
    }
   },
   "id": "77e5c77a84efa59d"
  },
  {
   "cell_type": "markdown",
   "source": [
    "## Adding Date Related fields"
   ],
   "metadata": {
    "collapsed": false
   },
   "id": "fc1ed1a4d94e50d3"
  },
  {
   "cell_type": "code",
   "execution_count": 107,
   "outputs": [],
   "source": [
    "Datedf['Date'] = Datedf['DateTime'].dt.date\n",
    "Datedf['Hour'] = Datedf['DateTime'].dt.strftime('%H:%M')\n",
    "Datedf['Year'] = Datedf['DateTime'].dt.year\n",
    "Datedf['Month'] = Datedf['DateTime'].dt.month\n",
    "Datedf['Day'] = Datedf['DateTime'].dt.day\n",
    "Datedf['Weeknumber'] = Datedf['DateTime'].dt.isocalendar().week\n",
    "Datedf['Weekday'] = Datedf['DateTime'].dt.strftime('%A')\n",
    "Datedf['MonthName'] = Datedf['DateTime'].dt.strftime('%B')\n",
    "Datedf['Weeknumber'] = Datedf['Weeknumber'].astype(int)\n",
    "# Datedf['DateTime'] = Datedf['DateTime'].astype(str)"
   ],
   "metadata": {
    "collapsed": false,
    "ExecuteTime": {
     "end_time": "2024-05-01T13:56:36.408572Z",
     "start_time": "2024-05-01T13:56:32.237481Z"
    }
   },
   "id": "471c39529d998291"
  },
  {
   "cell_type": "code",
   "execution_count": 108,
   "outputs": [
    {
     "data": {
      "text/plain": "             DateTime        Date   Hour  Year  Month  Day  Weeknumber  \\\n0 2023-03-13 23:41:00  2023-03-13  23:41  2023      3   13          11   \n1 2023-03-01 05:02:00  2023-03-01  05:02  2023      3    1           9   \n2 2023-03-13 13:16:00  2023-03-13  13:16  2023      3   13          11   \n3 2023-03-13 10:59:00  2023-03-13  10:59  2023      3   13          11   \n4 2023-03-14 18:44:00  2023-03-14  18:44  2023      3   14          11   \n\n     Weekday MonthName  \n0     Monday     March  \n1  Wednesday     March  \n2     Monday     March  \n3     Monday     March  \n4    Tuesday     March  ",
      "text/html": "<div>\n<style scoped>\n    .dataframe tbody tr th:only-of-type {\n        vertical-align: middle;\n    }\n\n    .dataframe tbody tr th {\n        vertical-align: top;\n    }\n\n    .dataframe thead th {\n        text-align: right;\n    }\n</style>\n<table border=\"1\" class=\"dataframe\">\n  <thead>\n    <tr style=\"text-align: right;\">\n      <th></th>\n      <th>DateTime</th>\n      <th>Date</th>\n      <th>Hour</th>\n      <th>Year</th>\n      <th>Month</th>\n      <th>Day</th>\n      <th>Weeknumber</th>\n      <th>Weekday</th>\n      <th>MonthName</th>\n    </tr>\n  </thead>\n  <tbody>\n    <tr>\n      <th>0</th>\n      <td>2023-03-13 23:41:00</td>\n      <td>2023-03-13</td>\n      <td>23:41</td>\n      <td>2023</td>\n      <td>3</td>\n      <td>13</td>\n      <td>11</td>\n      <td>Monday</td>\n      <td>March</td>\n    </tr>\n    <tr>\n      <th>1</th>\n      <td>2023-03-01 05:02:00</td>\n      <td>2023-03-01</td>\n      <td>05:02</td>\n      <td>2023</td>\n      <td>3</td>\n      <td>1</td>\n      <td>9</td>\n      <td>Wednesday</td>\n      <td>March</td>\n    </tr>\n    <tr>\n      <th>2</th>\n      <td>2023-03-13 13:16:00</td>\n      <td>2023-03-13</td>\n      <td>13:16</td>\n      <td>2023</td>\n      <td>3</td>\n      <td>13</td>\n      <td>11</td>\n      <td>Monday</td>\n      <td>March</td>\n    </tr>\n    <tr>\n      <th>3</th>\n      <td>2023-03-13 10:59:00</td>\n      <td>2023-03-13</td>\n      <td>10:59</td>\n      <td>2023</td>\n      <td>3</td>\n      <td>13</td>\n      <td>11</td>\n      <td>Monday</td>\n      <td>March</td>\n    </tr>\n    <tr>\n      <th>4</th>\n      <td>2023-03-14 18:44:00</td>\n      <td>2023-03-14</td>\n      <td>18:44</td>\n      <td>2023</td>\n      <td>3</td>\n      <td>14</td>\n      <td>11</td>\n      <td>Tuesday</td>\n      <td>March</td>\n    </tr>\n  </tbody>\n</table>\n</div>"
     },
     "execution_count": 108,
     "metadata": {},
     "output_type": "execute_result"
    }
   ],
   "source": [
    "Datedf.head(5)"
   ],
   "metadata": {
    "collapsed": false,
    "ExecuteTime": {
     "end_time": "2024-05-01T13:56:40.125863Z",
     "start_time": "2024-05-01T13:56:40.104672Z"
    }
   },
   "id": "e04aa09b9e2faa88"
  },
  {
   "cell_type": "code",
   "execution_count": 68,
   "outputs": [
    {
     "data": {
      "text/plain": "incident_datetime           datetime64[ns]\nincident_date               datetime64[ns]\nreport_datetime             datetime64[ns]\nrow_id                               int64\nincident_id                          int64\nincident_number                      int64\nreport_type_code                    object\nreport_type_description             object\nincident_code                        int64\nincident_category                   object\nincident_subcategory                object\nincident_description                object\nresolution                          object\npolice_district                     object\nonlineincident                      object\ncad_number                           int64\nintersection                        object\ncnn                                  int64\nanalysis_neighborhood               object\nsupervisor_district                  int64\nsupervisor_district_2012             int64\nlatitude                           float64\nlongitude                          float64\npoint                               object\nload_timestamp                      object\ndtype: object"
     },
     "execution_count": 68,
     "metadata": {},
     "output_type": "execute_result"
    }
   ],
   "source": [
    "Curateddf.dtypes"
   ],
   "metadata": {
    "collapsed": false,
    "ExecuteTime": {
     "end_time": "2024-05-01T13:02:50.839087Z",
     "start_time": "2024-05-01T13:02:50.827385Z"
    }
   },
   "id": "b6c6f6e350fdd7a0"
  },
  {
   "cell_type": "code",
   "execution_count": 64,
   "outputs": [
    {
     "name": "stderr",
     "output_type": "stream",
     "text": [
      "/var/folders/l_/wfdf7sk55vb8ny92wschxkpw0000gn/T/ipykernel_3618/1848425529.py:1: SettingWithCopyWarning: \n",
      "A value is trying to be set on a copy of a slice from a DataFrame.\n",
      "Try using .loc[row_indexer,col_indexer] = value instead\n",
      "\n",
      "See the caveats in the documentation: https://pandas.pydata.org/pandas-docs/stable/user_guide/indexing.html#returning-a-view-versus-a-copy\n",
      "  Curateddf['incident_datetime'] = pd.to_datetime(Curateddf['incident_datetime'])\n",
      "/var/folders/l_/wfdf7sk55vb8ny92wschxkpw0000gn/T/ipykernel_3618/1848425529.py:2: SettingWithCopyWarning: \n",
      "A value is trying to be set on a copy of a slice from a DataFrame.\n",
      "Try using .loc[row_indexer,col_indexer] = value instead\n",
      "\n",
      "See the caveats in the documentation: https://pandas.pydata.org/pandas-docs/stable/user_guide/indexing.html#returning-a-view-versus-a-copy\n",
      "  Curateddf['incident_date'] = pd.to_datetime(Curateddf['incident_date'])\n",
      "/var/folders/l_/wfdf7sk55vb8ny92wschxkpw0000gn/T/ipykernel_3618/1848425529.py:3: SettingWithCopyWarning: \n",
      "A value is trying to be set on a copy of a slice from a DataFrame.\n",
      "Try using .loc[row_indexer,col_indexer] = value instead\n",
      "\n",
      "See the caveats in the documentation: https://pandas.pydata.org/pandas-docs/stable/user_guide/indexing.html#returning-a-view-versus-a-copy\n",
      "  Curateddf['report_datetime'] = pd.to_datetime(Curateddf['report_datetime'])\n"
     ]
    }
   ],
   "source": [
    "Curateddf['incident_datetime'] = pd.to_datetime(Curateddf['incident_datetime'])\n",
    "Curateddf['incident_date'] = pd.to_datetime(Curateddf['incident_date'])\n",
    "Curateddf['report_datetime'] = pd.to_datetime(Curateddf['report_datetime'])"
   ],
   "metadata": {
    "collapsed": false,
    "ExecuteTime": {
     "end_time": "2024-05-01T13:02:41.270456Z",
     "start_time": "2024-05-01T13:01:53.978914Z"
    }
   },
   "id": "87253850d9c6d482"
  },
  {
   "cell_type": "code",
   "execution_count": 65,
   "outputs": [
    {
     "name": "stderr",
     "output_type": "stream",
     "text": [
      "/var/folders/l_/wfdf7sk55vb8ny92wschxkpw0000gn/T/ipykernel_3618/2216007853.py:1: SettingWithCopyWarning: \n",
      "A value is trying to be set on a copy of a slice from a DataFrame.\n",
      "Try using .loc[row_indexer,col_indexer] = value instead\n",
      "\n",
      "See the caveats in the documentation: https://pandas.pydata.org/pandas-docs/stable/user_guide/indexing.html#returning-a-view-versus-a-copy\n",
      "  Curateddf['cad_number'] = Curateddf['cad_number'].fillna(9999).astype(int)\n",
      "/var/folders/l_/wfdf7sk55vb8ny92wschxkpw0000gn/T/ipykernel_3618/2216007853.py:2: SettingWithCopyWarning: \n",
      "A value is trying to be set on a copy of a slice from a DataFrame.\n",
      "Try using .loc[row_indexer,col_indexer] = value instead\n",
      "\n",
      "See the caveats in the documentation: https://pandas.pydata.org/pandas-docs/stable/user_guide/indexing.html#returning-a-view-versus-a-copy\n",
      "  Curateddf['cnn'] = Curateddf['cnn'].fillna(9999).astype(int)\n",
      "/var/folders/l_/wfdf7sk55vb8ny92wschxkpw0000gn/T/ipykernel_3618/2216007853.py:3: SettingWithCopyWarning: \n",
      "A value is trying to be set on a copy of a slice from a DataFrame.\n",
      "Try using .loc[row_indexer,col_indexer] = value instead\n",
      "\n",
      "See the caveats in the documentation: https://pandas.pydata.org/pandas-docs/stable/user_guide/indexing.html#returning-a-view-versus-a-copy\n",
      "  Curateddf['supervisor_district'] = Curateddf['supervisor_district'].fillna(9999).astype(int)\n",
      "/var/folders/l_/wfdf7sk55vb8ny92wschxkpw0000gn/T/ipykernel_3618/2216007853.py:4: SettingWithCopyWarning: \n",
      "A value is trying to be set on a copy of a slice from a DataFrame.\n",
      "Try using .loc[row_indexer,col_indexer] = value instead\n",
      "\n",
      "See the caveats in the documentation: https://pandas.pydata.org/pandas-docs/stable/user_guide/indexing.html#returning-a-view-versus-a-copy\n",
      "  Curateddf['supervisor_district_2012'] = Curateddf['supervisor_district_2012'].fillna(9999).astype(int)\n"
     ]
    }
   ],
   "source": [
    "Curateddf['cad_number'] = Curateddf['cad_number'].fillna(9999).astype(int)\n",
    "Curateddf['cnn'] = Curateddf['cnn'].fillna(9999).astype(int)\n",
    "Curateddf['supervisor_district'] = Curateddf['supervisor_district'].fillna(9999).astype(int)\n",
    "Curateddf['supervisor_district_2012'] = Curateddf['supervisor_district_2012'].fillna(9999).astype(int)\n",
    "Curateddf[\"onlineincident\"] = Curateddf[\"onlineincident\"].fillna(0).astype(int)"
   ],
   "metadata": {
    "collapsed": false,
    "ExecuteTime": {
     "end_time": "2024-05-01T13:02:41.341643Z",
     "start_time": "2024-05-01T13:02:41.268723Z"
    }
   },
   "id": "aa5f2faaaf3f81d8"
  },
  {
   "cell_type": "code",
   "execution_count": 66,
   "outputs": [
    {
     "name": "stderr",
     "output_type": "stream",
     "text": [
      "/var/folders/l_/wfdf7sk55vb8ny92wschxkpw0000gn/T/ipykernel_3618/647141117.py:1: SettingWithCopyWarning: \n",
      "A value is trying to be set on a copy of a slice from a DataFrame.\n",
      "Try using .loc[row_indexer,col_indexer] = value instead\n",
      "\n",
      "See the caveats in the documentation: https://pandas.pydata.org/pandas-docs/stable/user_guide/indexing.html#returning-a-view-versus-a-copy\n",
      "  Curateddf['load_timestamp'] = 'Batch Load'\n"
     ]
    }
   ],
   "source": [
    "Curateddf['load_timestamp'] = 'Batch Load'"
   ],
   "metadata": {
    "collapsed": false,
    "ExecuteTime": {
     "end_time": "2024-05-01T13:02:41.354104Z",
     "start_time": "2024-05-01T13:02:41.346602Z"
    }
   },
   "id": "2b4a34bcdfb40219"
  },
  {
   "cell_type": "code",
   "execution_count": 67,
   "outputs": [
    {
     "data": {
      "text/plain": "    incident_datetime incident_date     report_datetime        row_id  \\\n0 2023-03-13 23:41:00    2023-03-13 2023-03-13 23:41:00  125373607041   \n1 2023-03-01 05:02:00    2023-03-01 2023-03-11 15:40:00  125379506374   \n2 2023-03-13 13:16:00    2023-03-13 2023-03-13 13:17:00  125357107041   \n3 2023-03-13 10:59:00    2023-03-13 2023-03-13 11:00:00  125355107041   \n4 2023-03-14 18:44:00    2023-03-14 2023-03-14 18:45:00  125402407041   \n\n   incident_id  incident_number report_type_code report_type_description  \\\n0      1253736        230167874               VS      Vehicle Supplement   \n1      1253795        236046151               II        Coplogic Initial   \n2      1253571        220343896               VS      Vehicle Supplement   \n3      1253551        230174885               VS      Vehicle Supplement   \n4      1254024        230176728               VS      Vehicle Supplement   \n\n   incident_code  incident_category  ... cad_number intersection   cnn  \\\n0           7041  Recovered Vehicle  ...       9999          NaN  9999   \n1           6374      Larceny Theft  ...       9999          NaN  9999   \n2           7041  Recovered Vehicle  ...       9999          NaN  9999   \n3           7041  Recovered Vehicle  ...       9999          NaN  9999   \n4           7041  Recovered Vehicle  ...       9999          NaN  9999   \n\n  analysis_neighborhood supervisor_district  supervisor_district_2012  \\\n0                   NaN                9999                      9999   \n1                   NaN                9999                      9999   \n2                   NaN                9999                      9999   \n3                   NaN                9999                      9999   \n4                   NaN                9999                      9999   \n\n  latitude  longitude point  load_timestamp  \n0      NaN        NaN   NaN      Batch Load  \n1      NaN        NaN   NaN      Batch Load  \n2      NaN        NaN   NaN      Batch Load  \n3      NaN        NaN   NaN      Batch Load  \n4      NaN        NaN   NaN      Batch Load  \n\n[5 rows x 25 columns]",
      "text/html": "<div>\n<style scoped>\n    .dataframe tbody tr th:only-of-type {\n        vertical-align: middle;\n    }\n\n    .dataframe tbody tr th {\n        vertical-align: top;\n    }\n\n    .dataframe thead th {\n        text-align: right;\n    }\n</style>\n<table border=\"1\" class=\"dataframe\">\n  <thead>\n    <tr style=\"text-align: right;\">\n      <th></th>\n      <th>incident_datetime</th>\n      <th>incident_date</th>\n      <th>report_datetime</th>\n      <th>row_id</th>\n      <th>incident_id</th>\n      <th>incident_number</th>\n      <th>report_type_code</th>\n      <th>report_type_description</th>\n      <th>incident_code</th>\n      <th>incident_category</th>\n      <th>...</th>\n      <th>cad_number</th>\n      <th>intersection</th>\n      <th>cnn</th>\n      <th>analysis_neighborhood</th>\n      <th>supervisor_district</th>\n      <th>supervisor_district_2012</th>\n      <th>latitude</th>\n      <th>longitude</th>\n      <th>point</th>\n      <th>load_timestamp</th>\n    </tr>\n  </thead>\n  <tbody>\n    <tr>\n      <th>0</th>\n      <td>2023-03-13 23:41:00</td>\n      <td>2023-03-13</td>\n      <td>2023-03-13 23:41:00</td>\n      <td>125373607041</td>\n      <td>1253736</td>\n      <td>230167874</td>\n      <td>VS</td>\n      <td>Vehicle Supplement</td>\n      <td>7041</td>\n      <td>Recovered Vehicle</td>\n      <td>...</td>\n      <td>9999</td>\n      <td>NaN</td>\n      <td>9999</td>\n      <td>NaN</td>\n      <td>9999</td>\n      <td>9999</td>\n      <td>NaN</td>\n      <td>NaN</td>\n      <td>NaN</td>\n      <td>Batch Load</td>\n    </tr>\n    <tr>\n      <th>1</th>\n      <td>2023-03-01 05:02:00</td>\n      <td>2023-03-01</td>\n      <td>2023-03-11 15:40:00</td>\n      <td>125379506374</td>\n      <td>1253795</td>\n      <td>236046151</td>\n      <td>II</td>\n      <td>Coplogic Initial</td>\n      <td>6374</td>\n      <td>Larceny Theft</td>\n      <td>...</td>\n      <td>9999</td>\n      <td>NaN</td>\n      <td>9999</td>\n      <td>NaN</td>\n      <td>9999</td>\n      <td>9999</td>\n      <td>NaN</td>\n      <td>NaN</td>\n      <td>NaN</td>\n      <td>Batch Load</td>\n    </tr>\n    <tr>\n      <th>2</th>\n      <td>2023-03-13 13:16:00</td>\n      <td>2023-03-13</td>\n      <td>2023-03-13 13:17:00</td>\n      <td>125357107041</td>\n      <td>1253571</td>\n      <td>220343896</td>\n      <td>VS</td>\n      <td>Vehicle Supplement</td>\n      <td>7041</td>\n      <td>Recovered Vehicle</td>\n      <td>...</td>\n      <td>9999</td>\n      <td>NaN</td>\n      <td>9999</td>\n      <td>NaN</td>\n      <td>9999</td>\n      <td>9999</td>\n      <td>NaN</td>\n      <td>NaN</td>\n      <td>NaN</td>\n      <td>Batch Load</td>\n    </tr>\n    <tr>\n      <th>3</th>\n      <td>2023-03-13 10:59:00</td>\n      <td>2023-03-13</td>\n      <td>2023-03-13 11:00:00</td>\n      <td>125355107041</td>\n      <td>1253551</td>\n      <td>230174885</td>\n      <td>VS</td>\n      <td>Vehicle Supplement</td>\n      <td>7041</td>\n      <td>Recovered Vehicle</td>\n      <td>...</td>\n      <td>9999</td>\n      <td>NaN</td>\n      <td>9999</td>\n      <td>NaN</td>\n      <td>9999</td>\n      <td>9999</td>\n      <td>NaN</td>\n      <td>NaN</td>\n      <td>NaN</td>\n      <td>Batch Load</td>\n    </tr>\n    <tr>\n      <th>4</th>\n      <td>2023-03-14 18:44:00</td>\n      <td>2023-03-14</td>\n      <td>2023-03-14 18:45:00</td>\n      <td>125402407041</td>\n      <td>1254024</td>\n      <td>230176728</td>\n      <td>VS</td>\n      <td>Vehicle Supplement</td>\n      <td>7041</td>\n      <td>Recovered Vehicle</td>\n      <td>...</td>\n      <td>9999</td>\n      <td>NaN</td>\n      <td>9999</td>\n      <td>NaN</td>\n      <td>9999</td>\n      <td>9999</td>\n      <td>NaN</td>\n      <td>NaN</td>\n      <td>NaN</td>\n      <td>Batch Load</td>\n    </tr>\n  </tbody>\n</table>\n<p>5 rows × 25 columns</p>\n</div>"
     },
     "execution_count": 67,
     "metadata": {},
     "output_type": "execute_result"
    }
   ],
   "source": [
    "Curateddf.head(5)"
   ],
   "metadata": {
    "collapsed": false,
    "ExecuteTime": {
     "end_time": "2024-05-01T13:02:41.391971Z",
     "start_time": "2024-05-01T13:02:41.354338Z"
    }
   },
   "id": "60ae665834dd5c6e"
  },
  {
   "cell_type": "code",
   "execution_count": 116,
   "outputs": [
    {
     "name": "stderr",
     "output_type": "stream",
     "text": [
      "/var/folders/l_/wfdf7sk55vb8ny92wschxkpw0000gn/T/ipykernel_3618/857964209.py:1: SettingWithCopyWarning: \n",
      "A value is trying to be set on a copy of a slice from a DataFrame.\n",
      "Try using .loc[row_indexer,col_indexer] = value instead\n",
      "\n",
      "See the caveats in the documentation: https://pandas.pydata.org/pandas-docs/stable/user_guide/indexing.html#returning-a-view-versus-a-copy\n",
      "  Factdf[\"OnlineIncident\"] = Factdf[\"OnlineIncident\"].fillna(0).astype(int)\n"
     ]
    }
   ],
   "source": [
    "Factdf[\"OnlineIncident\"] = Factdf[\"OnlineIncident\"].fillna(0).astype(int)"
   ],
   "metadata": {
    "collapsed": false,
    "ExecuteTime": {
     "end_time": "2024-05-01T14:05:27.577353Z",
     "start_time": "2024-05-01T14:05:27.353446Z"
    }
   },
   "id": "f1cb3d7970b533a0"
  },
  {
   "cell_type": "code",
   "execution_count": 74,
   "outputs": [
    {
     "name": "stderr",
     "output_type": "stream",
     "text": [
      "100%|██████████| 1/1 [00:00<00:00, 1991.60it/s]\n"
     ]
    }
   ],
   "source": [
    "from google.oauth2 import service_account\n",
    "project_id = 'hakoona-matata-298704'\n",
    "service_account_file = '/Users/mani/Downloads/hakoona-matata-298704-ae95f0e3a754.json'\n",
    "credentials = service_account.Credentials.from_service_account_file(service_account_file)"
   ],
   "metadata": {
    "collapsed": false,
    "ExecuteTime": {
     "end_time": "2024-05-01T13:35:58.323515Z",
     "start_time": "2024-05-01T13:34:53.567238Z"
    }
   },
   "id": "5cef5f9978904226"
  },
  {
   "cell_type": "code",
   "execution_count": 75,
   "outputs": [
    {
     "data": {
      "text/plain": "(846401, 25)"
     },
     "execution_count": 75,
     "metadata": {},
     "output_type": "execute_result"
    }
   ],
   "source": [
    "curated_table = 'SFCrimeData.tbl_curated_crime'\n",
    "Curateddf.to_gbq(curated_table, project_id=project_id, if_exists='replace', credentials=credentials,table_schema=[{\"name\":\"incident_date\", \"type\":\"DATE\"}])"
   ],
   "metadata": {
    "collapsed": false,
    "ExecuteTime": {
     "end_time": "2024-05-01T13:36:43.669018Z",
     "start_time": "2024-05-01T13:36:43.649401Z"
    }
   },
   "id": "b981a6da0cd0da08"
  },
  {
   "cell_type": "code",
   "execution_count": 109,
   "outputs": [
    {
     "data": {
      "text/plain": "DateTime      datetime64[ns]\nDate                  object\nHour                  object\nYear                   int64\nMonth                  int64\nDay                    int64\nWeeknumber             int64\nWeekday               object\nMonthName             object\ndtype: object"
     },
     "execution_count": 109,
     "metadata": {},
     "output_type": "execute_result"
    }
   ],
   "source": [
    "Datedf.dtypes"
   ],
   "metadata": {
    "collapsed": false,
    "ExecuteTime": {
     "end_time": "2024-05-01T13:56:57.042521Z",
     "start_time": "2024-05-01T13:56:57.021545Z"
    }
   },
   "id": "c245d1e50f3bec3c"
  },
  {
   "cell_type": "code",
   "execution_count": 110,
   "outputs": [
    {
     "name": "stderr",
     "output_type": "stream",
     "text": [
      "100%|██████████| 1/1 [00:00<00:00, 3495.25it/s]\n"
     ]
    }
   ],
   "source": [
    "date_table = 'SFCrimeData.tbl_dim_date'\n",
    "Datedf.to_gbq(date_table,project_id=project_id,if_exists='replace', credentials=credentials,table_schema=[{\"name\":\"Date\", \"type\":\"DATE\"}])"
   ],
   "metadata": {
    "collapsed": false,
    "ExecuteTime": {
     "end_time": "2024-05-01T13:57:25.674795Z",
     "start_time": "2024-05-01T13:57:04.806668Z"
    }
   },
   "id": "2d273ce0fd095ce4"
  },
  {
   "cell_type": "code",
   "execution_count": 113,
   "outputs": [
    {
     "name": "stderr",
     "output_type": "stream",
     "text": [
      "100%|██████████| 1/1 [00:00<00:00, 5555.37it/s]\n"
     ]
    }
   ],
   "source": [
    "incidentreport_table = 'SFCrimeData.tbl_dim_incident_report'\n",
    "IncidentReportdf.to_gbq(incidentreport_table,project_id=project_id,if_exists='replace',credentials=credentials)"
   ],
   "metadata": {
    "collapsed": false,
    "ExecuteTime": {
     "end_time": "2024-05-01T13:59:26.482087Z",
     "start_time": "2024-05-01T13:59:22.814196Z"
    }
   },
   "id": "848cc1c95ee396d1"
  },
  {
   "cell_type": "code",
   "execution_count": 114,
   "outputs": [
    {
     "name": "stderr",
     "output_type": "stream",
     "text": [
      "100%|██████████| 1/1 [00:00<00:00, 5433.04it/s]\n"
     ]
    }
   ],
   "source": [
    "report_table = 'SFCrimeData.tbl_dim_report'\n",
    "Reportdf.to_gbq(report_table,project_id=project_id,if_exists='replace',credentials=credentials)"
   ],
   "metadata": {
    "collapsed": false,
    "ExecuteTime": {
     "end_time": "2024-05-01T14:00:26.118227Z",
     "start_time": "2024-05-01T14:00:20.957115Z"
    }
   },
   "id": "824d5eca3b06dac8"
  },
  {
   "cell_type": "code",
   "execution_count": 117,
   "outputs": [
    {
     "name": "stderr",
     "output_type": "stream",
     "text": [
      "100%|██████████| 1/1 [00:00<00:00, 3355.44it/s]\n"
     ]
    }
   ],
   "source": [
    "fact_table = 'SFCrimeData.tbl_fact_crime'\n",
    "Factdf.to_gbq(fact_table,project_id=project_id,if_exists='replace',credentials=credentials)"
   ],
   "metadata": {
    "collapsed": false,
    "ExecuteTime": {
     "end_time": "2024-05-01T14:06:12.504645Z",
     "start_time": "2024-05-01T14:05:32.441476Z"
    }
   },
   "id": "d7df46eba484355e"
  },
  {
   "cell_type": "code",
   "execution_count": 118,
   "outputs": [
    {
     "name": "stderr",
     "output_type": "stream",
     "text": [
      "100%|██████████| 1/1 [00:00<00:00, 4064.25it/s]\n"
     ]
    }
   ],
   "source": [
    "location_table = 'SFCrimeData.tbl_dim_location'\n",
    "Locationdf.to_gbq(location_table,project_id=project_id,if_exists='replace',credentials=credentials)"
   ],
   "metadata": {
    "collapsed": false,
    "ExecuteTime": {
     "end_time": "2024-05-01T14:11:51.618810Z",
     "start_time": "2024-05-01T14:11:45.443055Z"
    }
   },
   "id": "3aaa3883ade912f5"
  },
  {
   "cell_type": "code",
   "execution_count": null,
   "outputs": [],
   "source": [],
   "metadata": {
    "collapsed": false
   },
   "id": "5b2c6dba4a9beb53"
  }
 ],
 "metadata": {
  "kernelspec": {
   "display_name": "Python 3",
   "language": "python",
   "name": "python3"
  },
  "language_info": {
   "codemirror_mode": {
    "name": "ipython",
    "version": 2
   },
   "file_extension": ".py",
   "mimetype": "text/x-python",
   "name": "python",
   "nbconvert_exporter": "python",
   "pygments_lexer": "ipython2",
   "version": "2.7.6"
  }
 },
 "nbformat": 4,
 "nbformat_minor": 5
}
